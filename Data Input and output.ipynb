{
 "cells": [
  {
   "cell_type": "code",
   "execution_count": 1,
   "metadata": {},
   "outputs": [],
   "source": [
    "import numpy as np \n",
    "import pandas as pd"
   ]
  },
  {
   "cell_type": "code",
   "execution_count": 2,
   "metadata": {},
   "outputs": [
    {
     "data": {
      "text/plain": [
       "'C:\\\\Users\\\\Ambarish\\\\Python For Data Science and Machine Learning'"
      ]
     },
     "execution_count": 2,
     "metadata": {},
     "output_type": "execute_result"
    }
   ],
   "source": [
    "pwd"
   ]
  },
  {
   "cell_type": "code",
   "execution_count": 4,
   "metadata": {},
   "outputs": [],
   "source": [
    "from sqlalchemy import create_engine"
   ]
  },
  {
   "cell_type": "code",
   "execution_count": 8,
   "metadata": {},
   "outputs": [],
   "source": [
    "import pyodbc\n"
   ]
  },
  {
   "cell_type": "code",
   "execution_count": 14,
   "metadata": {},
   "outputs": [],
   "source": [
    "cnxn = pyodbc.connect(\"Driver={SQL Server};\"\n",
    "                        \"Server=DESKTOP-QH8TNPS;\"\n",
    "                        \"Database=AdventureWorks2012;\")\n",
    "df = pd.read_sql_query('select * from sales.store', cnxn)"
   ]
  },
  {
   "cell_type": "code",
   "execution_count": 17,
   "metadata": {},
   "outputs": [
    {
     "data": {
      "text/html": [
       "<div>\n",
       "<style scoped>\n",
       "    .dataframe tbody tr th:only-of-type {\n",
       "        vertical-align: middle;\n",
       "    }\n",
       "\n",
       "    .dataframe tbody tr th {\n",
       "        vertical-align: top;\n",
       "    }\n",
       "\n",
       "    .dataframe thead th {\n",
       "        text-align: right;\n",
       "    }\n",
       "</style>\n",
       "<table border=\"1\" class=\"dataframe\">\n",
       "  <thead>\n",
       "    <tr style=\"text-align: right;\">\n",
       "      <th></th>\n",
       "      <th>BusinessEntityID</th>\n",
       "      <th>Name</th>\n",
       "      <th>SalesPersonID</th>\n",
       "      <th>Demographics</th>\n",
       "      <th>rowguid</th>\n",
       "      <th>ModifiedDate</th>\n",
       "    </tr>\n",
       "  </thead>\n",
       "  <tbody>\n",
       "    <tr>\n",
       "      <th>0</th>\n",
       "      <td>292</td>\n",
       "      <td>Next-Door Bike Store</td>\n",
       "      <td>279</td>\n",
       "      <td>&lt;StoreSurvey xmlns=\"http://schemas.microsoft.c...</td>\n",
       "      <td>A22517E3-848D-4EBE-B9D9-7437F3432304</td>\n",
       "      <td>2008-10-13 11:15:07.497</td>\n",
       "    </tr>\n",
       "    <tr>\n",
       "      <th>1</th>\n",
       "      <td>294</td>\n",
       "      <td>Professional Sales and Service</td>\n",
       "      <td>276</td>\n",
       "      <td>&lt;StoreSurvey xmlns=\"http://schemas.microsoft.c...</td>\n",
       "      <td>B50CA50B-C601-4A13-B07E-2C63862D71B4</td>\n",
       "      <td>2008-10-13 11:15:07.497</td>\n",
       "    </tr>\n",
       "    <tr>\n",
       "      <th>2</th>\n",
       "      <td>296</td>\n",
       "      <td>Riders Company</td>\n",
       "      <td>277</td>\n",
       "      <td>&lt;StoreSurvey xmlns=\"http://schemas.microsoft.c...</td>\n",
       "      <td>337C3688-1339-4E1A-A08A-B54B23566E49</td>\n",
       "      <td>2008-10-13 11:15:07.497</td>\n",
       "    </tr>\n",
       "    <tr>\n",
       "      <th>3</th>\n",
       "      <td>298</td>\n",
       "      <td>The Bike Mechanics</td>\n",
       "      <td>275</td>\n",
       "      <td>&lt;StoreSurvey xmlns=\"http://schemas.microsoft.c...</td>\n",
       "      <td>7894F278-F0C8-4D16-BD75-213FDBF13023</td>\n",
       "      <td>2008-10-13 11:15:07.497</td>\n",
       "    </tr>\n",
       "    <tr>\n",
       "      <th>4</th>\n",
       "      <td>300</td>\n",
       "      <td>Nationwide Supply</td>\n",
       "      <td>286</td>\n",
       "      <td>&lt;StoreSurvey xmlns=\"http://schemas.microsoft.c...</td>\n",
       "      <td>C3FC9705-A8C4-4F3A-9550-EB2FA4B7B64D</td>\n",
       "      <td>2008-10-13 11:15:07.497</td>\n",
       "    </tr>\n",
       "  </tbody>\n",
       "</table>\n",
       "</div>"
      ],
      "text/plain": [
       "   BusinessEntityID                            Name  SalesPersonID  \\\n",
       "0               292            Next-Door Bike Store            279   \n",
       "1               294  Professional Sales and Service            276   \n",
       "2               296                  Riders Company            277   \n",
       "3               298              The Bike Mechanics            275   \n",
       "4               300               Nationwide Supply            286   \n",
       "\n",
       "                                        Demographics  \\\n",
       "0  <StoreSurvey xmlns=\"http://schemas.microsoft.c...   \n",
       "1  <StoreSurvey xmlns=\"http://schemas.microsoft.c...   \n",
       "2  <StoreSurvey xmlns=\"http://schemas.microsoft.c...   \n",
       "3  <StoreSurvey xmlns=\"http://schemas.microsoft.c...   \n",
       "4  <StoreSurvey xmlns=\"http://schemas.microsoft.c...   \n",
       "\n",
       "                                rowguid            ModifiedDate  \n",
       "0  A22517E3-848D-4EBE-B9D9-7437F3432304 2008-10-13 11:15:07.497  \n",
       "1  B50CA50B-C601-4A13-B07E-2C63862D71B4 2008-10-13 11:15:07.497  \n",
       "2  337C3688-1339-4E1A-A08A-B54B23566E49 2008-10-13 11:15:07.497  \n",
       "3  7894F278-F0C8-4D16-BD75-213FDBF13023 2008-10-13 11:15:07.497  \n",
       "4  C3FC9705-A8C4-4F3A-9550-EB2FA4B7B64D 2008-10-13 11:15:07.497  "
      ]
     },
     "execution_count": 17,
     "metadata": {},
     "output_type": "execute_result"
    }
   ],
   "source": [
    "df.head()"
   ]
  },
  {
   "cell_type": "code",
   "execution_count": null,
   "metadata": {},
   "outputs": [],
   "source": []
  }
 ],
 "metadata": {
  "kernelspec": {
   "display_name": "Python 3",
   "language": "python",
   "name": "python3"
  },
  "language_info": {
   "codemirror_mode": {
    "name": "ipython",
    "version": 3
   },
   "file_extension": ".py",
   "mimetype": "text/x-python",
   "name": "python",
   "nbconvert_exporter": "python",
   "pygments_lexer": "ipython3",
   "version": "3.7.3"
  }
 },
 "nbformat": 4,
 "nbformat_minor": 2
}
